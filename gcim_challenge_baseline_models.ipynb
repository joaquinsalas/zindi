{
 "cells": [
  {
   "cell_type": "markdown",
   "id": "3e0018fb-f29e-4c6a-a713-c9f82ff0a440",
   "metadata": {},
   "source": [
    "### Import libraries"
   ]
  },
  {
   "cell_type": "code",
   "execution_count": 9,
   "id": "41440b7f-1caa-40f2-b113-43e7e671de7a",
   "metadata": {
    "ExecuteTime": {
     "end_time": "2024-09-05T03:40:09.565875300Z",
     "start_time": "2024-09-05T03:40:09.523986100Z"
    }
   },
   "outputs": [],
   "source": [
    "import numpy as np\n",
    "import h5py\n",
    "import pandas as pd\n",
    "from sklearn.model_selection import train_test_split"
   ]
  },
  {
   "cell_type": "markdown",
   "id": "be4dd2d8-2e6b-4db0-b396-f8b870a0e68a",
   "metadata": {},
   "source": [
    "### Load data for machine learning"
   ]
  },
  {
   "cell_type": "code",
   "execution_count": 3,
   "id": "24c54df6-8a25-4920-9cce-0a85394c65d0",
   "metadata": {
    "ExecuteTime": {
     "end_time": "2024-09-05T03:26:32.013428Z",
     "start_time": "2024-09-05T03:25:58.142439100Z"
    }
   },
   "outputs": [
    {
     "name": "stdout",
     "output_type": "stream",
     "text": [
      "Shape of X (images): (1100000, 16, 16, 6)\n",
      "Shape of y (labels): (1100000,)\n",
      "Shape of X_test (images): (120000, 16, 16, 6)\n"
     ]
    }
   ],
   "source": [
    "# Path to your HDF5 file\n",
    "hdf5_file = \"../data/train_data.h5\"\n",
    "\n",
    "# Open the HDF5 file\n",
    "with h5py.File(hdf5_file, 'r') as hdf:\n",
    "    # Extract the images (X)\n",
    "    X = np.array(hdf['images'])\n",
    "    \n",
    "    # Extract the labels (y)\n",
    "    y = np.array(hdf['labels'])\n",
    "\n",
    "# Check the shapes to ensure they are correct\n",
    "print(\"Shape of X (images):\", X.shape)\n",
    "print(\"Shape of y (labels):\", y.shape)\n",
    "\n"
   ]
  },
  {
   "cell_type": "code",
   "outputs": [
    {
     "ename": "KeyError",
     "evalue": "\"Unable to synchronously open object (object 'labels' doesn't exist)\"",
     "output_type": "error",
     "traceback": [
      "\u001B[0;31m---------------------------------------------------------------------------\u001B[0m",
      "\u001B[0;31mKeyError\u001B[0m                                  Traceback (most recent call last)",
      "Cell \u001B[0;32mIn[10], line 7\u001B[0m\n\u001B[1;32m      5\u001B[0m     X_test \u001B[38;5;241m=\u001B[39m np\u001B[38;5;241m.\u001B[39marray(hdf[\u001B[38;5;124m'\u001B[39m\u001B[38;5;124mimages\u001B[39m\u001B[38;5;124m'\u001B[39m])\n\u001B[1;32m      6\u001B[0m     \u001B[38;5;66;03m# Extract the labels (y)\u001B[39;00m\n\u001B[0;32m----> 7\u001B[0m     y_test \u001B[38;5;241m=\u001B[39m np\u001B[38;5;241m.\u001B[39marray(\u001B[43mhdf\u001B[49m\u001B[43m[\u001B[49m\u001B[38;5;124;43m'\u001B[39;49m\u001B[38;5;124;43mlabels\u001B[39;49m\u001B[38;5;124;43m'\u001B[39;49m\u001B[43m]\u001B[49m)\n\u001B[1;32m      9\u001B[0m \u001B[38;5;66;03m# Check the shapes to ensure they are correct\u001B[39;00m\n\u001B[1;32m     10\u001B[0m \u001B[38;5;28mprint\u001B[39m(\u001B[38;5;124m\"\u001B[39m\u001B[38;5;124mShape of X_test (images):\u001B[39m\u001B[38;5;124m\"\u001B[39m, X_test\u001B[38;5;241m.\u001B[39mshape)\n",
      "File \u001B[0;32mh5py/_objects.pyx:54\u001B[0m, in \u001B[0;36mh5py._objects.with_phil.wrapper\u001B[0;34m()\u001B[0m\n",
      "File \u001B[0;32mh5py/_objects.pyx:55\u001B[0m, in \u001B[0;36mh5py._objects.with_phil.wrapper\u001B[0;34m()\u001B[0m\n",
      "File \u001B[0;32m~/.conda/envs/zindi/lib/python3.10/site-packages/h5py/_hl/group.py:357\u001B[0m, in \u001B[0;36mGroup.__getitem__\u001B[0;34m(self, name)\u001B[0m\n\u001B[1;32m    355\u001B[0m         \u001B[38;5;28;01mraise\u001B[39;00m \u001B[38;5;167;01mValueError\u001B[39;00m(\u001B[38;5;124m\"\u001B[39m\u001B[38;5;124mInvalid HDF5 object reference\u001B[39m\u001B[38;5;124m\"\u001B[39m)\n\u001B[1;32m    356\u001B[0m \u001B[38;5;28;01melif\u001B[39;00m \u001B[38;5;28misinstance\u001B[39m(name, (\u001B[38;5;28mbytes\u001B[39m, \u001B[38;5;28mstr\u001B[39m)):\n\u001B[0;32m--> 357\u001B[0m     oid \u001B[38;5;241m=\u001B[39m \u001B[43mh5o\u001B[49m\u001B[38;5;241;43m.\u001B[39;49m\u001B[43mopen\u001B[49m\u001B[43m(\u001B[49m\u001B[38;5;28;43mself\u001B[39;49m\u001B[38;5;241;43m.\u001B[39;49m\u001B[43mid\u001B[49m\u001B[43m,\u001B[49m\u001B[43m \u001B[49m\u001B[38;5;28;43mself\u001B[39;49m\u001B[38;5;241;43m.\u001B[39;49m\u001B[43m_e\u001B[49m\u001B[43m(\u001B[49m\u001B[43mname\u001B[49m\u001B[43m)\u001B[49m\u001B[43m,\u001B[49m\u001B[43m \u001B[49m\u001B[43mlapl\u001B[49m\u001B[38;5;241;43m=\u001B[39;49m\u001B[38;5;28;43mself\u001B[39;49m\u001B[38;5;241;43m.\u001B[39;49m\u001B[43m_lapl\u001B[49m\u001B[43m)\u001B[49m\n\u001B[1;32m    358\u001B[0m \u001B[38;5;28;01melse\u001B[39;00m:\n\u001B[1;32m    359\u001B[0m     \u001B[38;5;28;01mraise\u001B[39;00m \u001B[38;5;167;01mTypeError\u001B[39;00m(\u001B[38;5;124m\"\u001B[39m\u001B[38;5;124mAccessing a group is done with bytes or str, \u001B[39m\u001B[38;5;124m\"\u001B[39m\n\u001B[1;32m    360\u001B[0m                     \u001B[38;5;124m\"\u001B[39m\u001B[38;5;124mnot \u001B[39m\u001B[38;5;132;01m{}\u001B[39;00m\u001B[38;5;124m\"\u001B[39m\u001B[38;5;241m.\u001B[39mformat(\u001B[38;5;28mtype\u001B[39m(name)))\n",
      "File \u001B[0;32mh5py/_objects.pyx:54\u001B[0m, in \u001B[0;36mh5py._objects.with_phil.wrapper\u001B[0;34m()\u001B[0m\n",
      "File \u001B[0;32mh5py/_objects.pyx:55\u001B[0m, in \u001B[0;36mh5py._objects.with_phil.wrapper\u001B[0;34m()\u001B[0m\n",
      "File \u001B[0;32mh5py/h5o.pyx:241\u001B[0m, in \u001B[0;36mh5py.h5o.open\u001B[0;34m()\u001B[0m\n",
      "\u001B[0;31mKeyError\u001B[0m: \"Unable to synchronously open object (object 'labels' doesn't exist)\""
     ]
    }
   ],
   "source": [
    "hdf5_file_test = \"../data/test_data.h5\"\n",
    "# Open the HDF5 file\n",
    "with h5py.File(hdf5_file_test, 'r') as hdf:\n",
    "    # Extract the images (X)\n",
    "    X_test = np.array(hdf['images'])\n",
    "\n",
    "\n",
    "# Check the shapes to ensure they are correct\n",
    "print(\"Shape of X_test (images):\", X_test.shape)"
   ],
   "metadata": {
    "collapsed": false,
    "ExecuteTime": {
     "end_time": "2024-09-05T03:41:29.284978200Z",
     "start_time": "2024-09-05T03:41:25.396552300Z"
    }
   },
   "id": "2db960fa43b4e799",
   "execution_count": 10
  },
  {
   "cell_type": "markdown",
   "id": "77ee615f-a496-4c17-b188-5f1d38ee96a8",
   "metadata": {},
   "source": [
    "### Balance data"
   ]
  },
  {
   "cell_type": "code",
   "execution_count": 4,
   "id": "cf89543b-2b49-4fc1-812b-18166da0553a",
   "metadata": {
    "ExecuteTime": {
     "end_time": "2024-09-05T03:27:01.715951900Z",
     "start_time": "2024-09-05T03:27:01.475597Z"
    }
   },
   "outputs": [
    {
     "name": "stdout",
     "output_type": "stream",
     "text": [
      "Number of 1's in balanced y: 100000\n",
      "Number of 0's in balanced y: 100000\n"
     ]
    }
   ],
   "source": [
    "# Step 1: Count the number of 1's in y\n",
    "num_ones = np.sum(y == 1)\n",
    "\n",
    "# Step 2: Get indices of 0's and 1's in y\n",
    "ones_indices = np.where(y == 1)[0]\n",
    "zeros_indices = np.where(y == 0)[0]\n",
    "\n",
    "# Step 3: Randomly sample the same number of 0's as there are 1's\n",
    "balanced_zero_indices = np.random.choice(zeros_indices, num_ones, replace=False)\n",
    "\n",
    "# Step 4: Combine indices of 0's and 1's\n",
    "balanced_indices = np.concatenate([ones_indices, balanced_zero_indices])\n",
    "\n",
    "# Step 5: Create balanced X and y\n",
    "X_balanced = X[balanced_indices]\n",
    "y_balanced = y[balanced_indices]\n",
    "\n",
    "# Display the number of 0's and 1's in the balanced y\n",
    "print(f\"Number of 1's in balanced y: {np.sum(y_balanced == 1)}\")\n",
    "print(f\"Number of 0's in balanced y: {np.sum(y_balanced == 0)}\")"
   ]
  },
  {
   "cell_type": "code",
   "execution_count": 11,
   "id": "b2f901ca-e28d-44c9-8a4a-fdf45d82880d",
   "metadata": {
    "ExecuteTime": {
     "end_time": "2024-09-05T03:42:39.319087700Z",
     "start_time": "2024-09-05T03:42:39.110641200Z"
    }
   },
   "outputs": [],
   "source": [
    "from sklearn.utils import shuffle\n",
    "# Shuffle both X_balanced and y_balanced together\n",
    "X_set, y_set = shuffle(X_balanced, y_balanced, random_state=1)\n"
   ]
  },
  {
   "cell_type": "code",
   "execution_count": 12,
   "id": "a5ce4ddf-eda2-4c5c-9b89-8bac4088c0ab",
   "metadata": {
    "ExecuteTime": {
     "end_time": "2024-09-05T03:43:00.161235300Z",
     "start_time": "2024-09-05T03:42:59.877152500Z"
    }
   },
   "outputs": [
    {
     "name": "stdout",
     "output_type": "stream",
     "text": [
      "Training set size: 100000\n",
      "Validation set size: 40000\n",
      "Test set size: 60000\n"
     ]
    }
   ],
   "source": [
    "from sklearn.model_selection import train_test_split\n",
    "\n",
    "# Assuming X and y are already loaded\n",
    "# Step 1: Split the data into 50% train and 50% test\n",
    "X_train, X_test, y_train, y_test = train_test_split(X_set, y_set, test_size=0.5, random_state=42)\n",
    "\n",
    "# Step 2: Split the test set into 60% test and 40% validation\n",
    "X_test, X_val, y_test, y_val = train_test_split(X_test, y_test, test_size=0.4, random_state=42)\n",
    "\n",
    "print(f\"Training set size: {X_train.shape[0]}\")\n",
    "print(f\"Validation set size: {X_val.shape[0]}\")\n",
    "print(f\"Test set size: {X_test.shape[0]}\")\n"
   ]
  },
  {
   "cell_type": "code",
   "execution_count": 6,
   "id": "c586387a-076e-43d5-98a4-20ccdee287a7",
   "metadata": {
    "ExecuteTime": {
     "end_time": "2024-09-05T03:27:42.258107500Z",
     "start_time": "2024-09-05T03:27:42.250128600Z"
    }
   },
   "outputs": [
    {
     "name": "stdout",
     "output_type": "stream",
     "text": [
      "(200000, 16, 16, 6)\n",
      "(120000, 16, 16, 6)\n"
     ]
    }
   ],
   "source": [
    "print(X_train.shape)\n",
    "print(X_test.shape)"
   ]
  },
  {
   "cell_type": "markdown",
   "id": "6ffb6798-0d92-4654-ae49-796c426339bf",
   "metadata": {},
   "source": [
    "### Baseline models\n",
    "#### Random Forest"
   ]
  },
  {
   "cell_type": "code",
   "execution_count": 13,
   "id": "4b84b0f6-20b8-417c-8727-fb88d29870c5",
   "metadata": {
    "ExecuteTime": {
     "end_time": "2024-09-05T03:46:45.346681600Z",
     "start_time": "2024-09-05T03:43:35.759378Z"
    }
   },
   "outputs": [],
   "source": [
    "from sklearn.ensemble import RandomForestClassifier\n",
    "from sklearn.metrics import accuracy_score\n",
    "from sklearn.model_selection import train_test_split\n",
    "\n",
    "# Flatten the image data\n",
    "X_train_flat = X_train.reshape(X_train.shape[0], -1)  \n",
    "X_test_flat = X_test.reshape(X_test.shape[0], -1)  \n",
    "\n",
    "# Define and train the baseline model\n",
    "rf = RandomForestClassifier(n_estimators=50, random_state=42)\n",
    "rf.fit(X_train_flat, y_train)\n",
    "\n",
    "y_pred_train = rf.predict(X_train_flat)\n",
    "y_pred_test = rf.predict(X_test_flat)\n",
    "\n",
    "\n",
    "\n"
   ]
  },
  {
   "cell_type": "code",
   "outputs": [
    {
     "name": "stdout",
     "output_type": "stream",
     "text": [
      "Baseline RF model training accuracy: 0.7326\n"
     ]
    }
   ],
   "source": [
    "# Evaluate the model\n",
    "train_accuracy_rf = accuracy_score(y_test, y_pred_test)\n",
    "\n",
    "## 0.9999 accuracy: OVERFITTING\n",
    "print(f'Baseline RF model training accuracy: {train_accuracy_rf:.4f}')"
   ],
   "metadata": {
    "collapsed": false,
    "ExecuteTime": {
     "end_time": "2024-09-05T03:47:17.778502400Z",
     "start_time": "2024-09-05T03:47:17.735617700Z"
    }
   },
   "id": "b1cd2fdd53e73ba8",
   "execution_count": 14
  },
  {
   "cell_type": "code",
   "execution_count": null,
   "id": "7da25bcf-660e-4cc5-82b1-68be1f7ee44a",
   "metadata": {
    "ExecuteTime": {
     "start_time": "2024-09-05T03:34:44.464937600Z"
    }
   },
   "outputs": [],
   "source": []
  },
  {
   "cell_type": "markdown",
   "id": "669abbec-1080-48fa-bf2f-de9ae47d7ee6",
   "metadata": {},
   "source": [
    "#### Multi layer perceptron"
   ]
  },
  {
   "cell_type": "code",
   "execution_count": 18,
   "id": "d61eb7c7-936c-40dd-a928-c6a05604a7f7",
   "metadata": {
    "ExecuteTime": {
     "end_time": "2024-09-05T03:50:10.936587500Z",
     "start_time": "2024-09-05T03:50:10.923621500Z"
    }
   },
   "outputs": [],
   "source": []
  },
  {
   "cell_type": "code",
   "outputs": [],
   "source": [
    "from sklearn.neural_network import MLPClassifier\n",
    "from sklearn.preprocessing import MinMaxScaler\n",
    "from sklearn.metrics import accuracy_score\n",
    "\n",
    "# Flatten the image data\n",
    "X_train_flat = X_train.reshape(X_train.shape[0], -1)  \n",
    "X_test_flat = X_test.reshape(X_test.shape[0], -1)\n",
    "\n",
    "# Scale the data to [0,1]\n",
    "scaler = MinMaxScaler()\n",
    "X_train_scaled = scaler.fit_transform(X_train_flat)\n",
    "X_test_scaled = scaler.transform(X_test_flat)\n",
    "\n",
    "# Define and train the MLP model with early stopping\n",
    "mlp_model = MLPClassifier(hidden_layer_sizes=(50,), max_iter=2000, random_state=42,\n",
    "                          early_stopping=True, n_iter_no_change=10, validation_fraction=0.2)\n",
    "\n",
    "# Train the model\n",
    "mlp_model.fit(X_train_scaled, y_train)\n",
    "\n",
    "# Predict on the test set\n",
    "y_pred_test_mlp = mlp_model.predict(X_test_scaled)\n",
    "\n"
   ],
   "metadata": {
    "collapsed": false,
    "ExecuteTime": {
     "end_time": "2024-09-05T03:50:32.979005100Z",
     "start_time": "2024-09-05T03:50:22.138996300Z"
    }
   },
   "id": "8fae306a0de994a3",
   "execution_count": 19
  },
  {
   "cell_type": "code",
   "outputs": [
    {
     "name": "stdout",
     "output_type": "stream",
     "text": [
      "MLP model test accuracy: 0.6049\n"
     ]
    }
   ],
   "source": [
    "\n",
    "# Evaluate the model\n",
    "test_accuracy_mlp = accuracy_score(y_test, y_pred_test_mlp)\n",
    "print(f'MLP model test accuracy: {test_accuracy_mlp:.4f}')"
   ],
   "metadata": {
    "collapsed": false,
    "ExecuteTime": {
     "end_time": "2024-09-05T03:50:37.639076400Z",
     "start_time": "2024-09-05T03:50:37.633092200Z"
    }
   },
   "id": "4caf081c97727cb2",
   "execution_count": 20
  },
  {
   "cell_type": "code",
   "execution_count": null,
   "id": "eccfc4fc-c4fd-4410-b34e-b01c5c732482",
   "metadata": {},
   "outputs": [],
   "source": []
  }
 ],
 "metadata": {
  "kernelspec": {
   "display_name": "Python 3",
   "language": "python",
   "name": "python3"
  },
  "language_info": {
   "codemirror_mode": {
    "name": "ipython",
    "version": 3
   },
   "file_extension": ".py",
   "mimetype": "text/x-python",
   "name": "python",
   "nbconvert_exporter": "python",
   "pygments_lexer": "ipython3",
   "version": "3.8.10"
  }
 },
 "nbformat": 4,
 "nbformat_minor": 5
}
